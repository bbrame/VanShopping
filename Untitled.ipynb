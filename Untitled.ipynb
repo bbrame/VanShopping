{
 "cells": [
  {
   "cell_type": "code",
   "execution_count": 1,
   "id": "2cb5faf0-2438-41bb-bdb7-c5f30047afb5",
   "metadata": {},
   "outputs": [],
   "source": [
    "from io import BytesIO\n",
    "import requests\n",
    "import numpy as np\n",
    "import pandas as pd\n",
    "import plotly.express as px\n"
   ]
  },
  {
   "cell_type": "code",
   "execution_count": 2,
   "id": "7a11aa16-9aa8-4ceb-8ce5-636fa52e22ba",
   "metadata": {},
   "outputs": [],
   "source": [
    "class GoogleSheetsReader(object):\n",
    "    \n",
    "    def __init__(self, sheet_id):\n",
    "        self.sheet_id = sheet_id\n",
    "                \n",
    "    def read_sheet(self, sheet_name, use_cache=False):\n",
    "        filename = '.cache/%s.csv'%sheet_name # only used for cache\n",
    "        if use_cache:\n",
    "            if os.path.exists(filename):\n",
    "                return pd.read_csv(filename)\n",
    "                \n",
    "        sheet_id = self.sheet_id\n",
    "        url = f\"https://docs.google.com/spreadsheets/d/{sheet_id}/gviz/tq?tqx=out:csv&sheet={sheet_name}\"\n",
    "        df = pd.read_csv(url) #, on_bad_lines='skip'\n",
    "        if use_cache:\n",
    "            df.to_csv(filename)\n",
    "        return df"
   ]
  },
  {
   "cell_type": "code",
   "execution_count": 3,
   "id": "90079ac3-6f92-4efd-b61c-f53b4f6f4456",
   "metadata": {},
   "outputs": [],
   "source": [
    "def read_sheet():\n",
    "    GOOGLE_SHEET_ID = '11V_hq6igSe-2y80GmlSewMl2aGfV5xftRcvEBvxTLlE'\n",
    "    reader = GoogleSheetsReader(GOOGLE_SHEET_ID)\n",
    "    df = reader.read_sheet(\"Sheet1\")\n",
    "    df = df[[c for c in df.columns if 'Unnamed' not in c]]\n",
    "    df.dropna(subset=['Price', 'Year', 'Mileage'], inplace=True)\n",
    "    \n",
    "    for c in 'Price', 'Year', 'Mileage':\n",
    "        df[c] = df[c].astype(str).str.replace(',','').replace('$', '').astype(float)\n",
    "    \n",
    "    df['Wear'] = 2023-df['Year'] + df['Mileage']/7500 - 15\n",
    "    return df"
   ]
  },
  {
   "cell_type": "code",
   "execution_count": 5,
   "id": "0780c69e-64b9-4f17-944e-eae97ce9a4d9",
   "metadata": {},
   "outputs": [],
   "source": [
    "# df = read_sheet()\n",
    "# df.Accident=='x'\n",
    "#df['Wear'].hist()\n",
    "#df.corr()['Wear']"
   ]
  },
  {
   "cell_type": "code",
   "execution_count": 7,
   "id": "48607e2f-371f-42cc-a311-ae45f95ac97a",
   "metadata": {},
   "outputs": [
    {
     "data": {
      "application/vnd.plotly.v1+json": {
       "config": {
        "plotlyServerURL": "https://plot.ly"
       },
       "data": [
        {
         "customdata": [
          [
           "3 owners",
           121588,
           2013
          ],
          [
           "1 owner",
           111331,
           2016
          ],
          [
           "1 owner",
           111033,
           2016
          ],
          [
           null,
           116000,
           2016
          ],
          [
           "2 owners",
           125123,
           2013
          ],
          [
           "4 owners, in KY",
           82836,
           2010
          ],
          [
           null,
           100000,
           2011
          ],
          [
           "2 owners",
           110551,
           2016
          ],
          [
           "2 owners",
           96500,
           2016
          ],
          [
           "SOLD",
           83220,
           2014
          ],
          [
           null,
           91000,
           2014
          ],
          [
           null,
           110316,
           2016
          ],
          [
           null,
           102047,
           2012
          ],
          [
           null,
           118427,
           2012
          ],
          [
           null,
           95640,
           2014
          ],
          [
           null,
           65565,
           2013
          ],
          [
           null,
           109000,
           2011
          ],
          [
           null,
           120000,
           2012
          ],
          [
           "2 owners",
           85000,
           2017
          ],
          [
           null,
           106221,
           2015
          ],
          [
           null,
           94178,
           2015
          ],
          [
           "Clean title, EX",
           116357,
           2011
          ],
          [
           "2 owners clean title",
           113997,
           2017
          ]
         ],
         "hovertemplate": "<b>%{hovertext}</b><br><br>symbol=circle<br>Wear=%{x}<br>Price=%{y}<br>CarNo=%{text}<br>Notes=%{customdata[0]}<br>Mileage=%{customdata[1]}<br>Year=%{customdata[2]}<br>color=%{marker.color}<extra></extra>",
         "hovertext": [
          1,
          4,
          5,
          6,
          8,
          9,
          11,
          12,
          13,
          14,
          15,
          16,
          17,
          18,
          19,
          20,
          21,
          22,
          23,
          24,
          30,
          31,
          32
         ],
         "legendgroup": "circle",
         "marker": {
          "color": [
           0,
           0,
           0,
           0,
           0,
           0.5,
           0,
           0,
           0,
           0.5,
           0,
           0.5,
           0,
           0,
           0,
           0,
           0.5,
           0,
           0,
           0,
           0.5,
           0,
           0
          ],
          "coloraxis": "coloraxis",
          "symbol": "circle"
         },
         "mode": "markers+text",
         "name": "circle",
         "orientation": "v",
         "showlegend": true,
         "text": [
          1,
          4,
          5,
          6,
          8,
          9,
          11,
          12,
          13,
          14,
          15,
          16,
          17,
          18,
          19,
          20,
          21,
          22,
          23,
          24,
          30,
          31,
          32
         ],
         "textposition": "top center",
         "type": "scatter",
         "x": [
          11.211733333333335,
          6.844133333333332,
          6.804400000000001,
          7.466666666666669,
          11.683066666666665,
          9.044800000000002,
          10.333333333333336,
          6.740133333333333,
          4.866666666666667,
          5.096,
          6.133333333333333,
          6.7088,
          9.606266666666667,
          11.790266666666668,
          6.7520000000000024,
          3.742000000000001,
          11.533333333333331,
          12,
          2.3333333333333357,
          7.162800000000001,
          5.5570666666666675,
          12.514266666666664,
          6.1996
         ],
         "xaxis": "x",
         "y": [
          12395,
          17750,
          16990,
          14900,
          12499,
          11129,
          13500,
          19500,
          17900,
          14000,
          17800,
          14300,
          14899,
          11995,
          15950,
          19450,
          8500,
          14800,
          19950,
          19900,
          18900,
          12800,
          19990
         ],
         "yaxis": "y"
        },
        {
         "hovertemplate": "<b>OLS trendline</b><br>Price = -869.878 * Wear + 22531.4<br>R<sup>2</sup>=0.596366<br><br>symbol=circle<br>Wear=%{x}<br>Price=%{y} <b>(trend)</b><extra></extra>",
         "legendgroup": "circle",
         "marker": {
          "symbol": "circle"
         },
         "mode": "lines",
         "name": "circle",
         "showlegend": false,
         "textposition": "top center",
         "type": "scatter",
         "x": [
          2.3333333333333357,
          3.742000000000001,
          4.866666666666667,
          5.096,
          5.5570666666666675,
          6.133333333333333,
          6.1996,
          6.7088,
          6.740133333333333,
          6.7520000000000024,
          6.804400000000001,
          6.844133333333332,
          7.162800000000001,
          7.466666666666669,
          9.044800000000002,
          9.606266666666667,
          10.333333333333336,
          11.211733333333335,
          11.533333333333331,
          11.683066666666665,
          11.790266666666668,
          12,
          12.514266666666664
         ],
         "xaxis": "x",
         "y": [
          20501.70539201987,
          19276.337075967986,
          18298.014146872134,
          18098.522097311394,
          17697.450290694505,
          17196.168524298268,
          17138.52460067519,
          16695.582660400498,
          16668.32647921051,
          16658.003925483237,
          16612.422311833605,
          16577.85915440971,
          16300.657992520071,
          16036.331026852087,
          14663.54736487479,
          14175.139794700208,
          13542.680407342805,
          12778.579464025264,
          12498.826659641249,
          12368.576908678042,
          12275.325973883368,
          12092.883535535086,
          11645.534212770097
         ],
         "yaxis": "y"
        },
        {
         "customdata": [
          [
           "1 accident, 3 owners",
           95745,
           2014
          ],
          [
           "1 accident, 3 owners",
           101820,
           2015
          ],
          [
           "1 accident, 2 owners",
           91651,
           2014
          ],
          [
           "Rebuilt Title - 1 owner - reached out ... now response yet",
           110830,
           2016
          ],
          [
           "Rebuilt title",
           71578,
           2015
          ],
          [
           "Rebuilt title - 2 owners",
           56521,
           2017
          ],
          [
           null,
           89628,
           2012
          ],
          [
           "2 accidents, 1 owner",
           87115,
           2018
          ],
          [
           "1 accident, 1 previous owner",
           98700,
           2016
          ]
         ],
         "hovertemplate": "<b>%{hovertext}</b><br><br>symbol=circle-x<br>Wear=%{x}<br>Price=%{y}<br>CarNo=%{text}<br>Notes=%{customdata[0]}<br>Mileage=%{customdata[1]}<br>Year=%{customdata[2]}<br>color=%{marker.color}<extra></extra>",
         "hovertext": [
          2,
          3,
          7,
          10,
          25,
          26,
          27,
          28,
          29
         ],
         "legendgroup": "circle-x",
         "marker": {
          "color": [
           0,
           0,
           0,
           0,
           0,
           0,
           0,
           0,
           0
          ],
          "coloraxis": "coloraxis",
          "symbol": "diamond"
         },
         "mode": "markers+text",
         "name": "circle-x",
         "orientation": "v",
         "showlegend": true,
         "text": [
          2,
          3,
          7,
          10,
          25,
          26,
          27,
          28,
          29
         ],
         "textposition": "top center",
         "type": "scatter",
         "x": [
          6.765999999999998,
          6.5760000000000005,
          6.220133333333333,
          6.777333333333331,
          2.5437333333333356,
          -1.463866666666668,
          7.950400000000002,
          1.6153333333333322,
          5.16
         ],
         "xaxis": "x",
         "y": [
          14997,
          16995,
          17075,
          15100,
          13950,
          20000,
          10200,
          25053,
          19943
         ],
         "yaxis": "y"
        },
        {
         "hovertemplate": "<b>OLS trendline</b><br>Price = -846.586 * Wear + 20999.2<br>R<sup>2</sup>=0.380544<br><br>symbol=circle-x<br>Wear=%{x}<br>Price=%{y} <b>(trend)</b><extra></extra>",
         "legendgroup": "circle-x",
         "marker": {
          "symbol": "diamond"
         },
         "mode": "lines",
         "name": "circle-x",
         "showlegend": false,
         "textposition": "top center",
         "type": "scatter",
         "x": [
          -1.463866666666668,
          1.6153333333333322,
          2.5437333333333356,
          5.16,
          6.220133333333333,
          6.5760000000000005,
          6.765999999999998,
          6.777333333333331,
          7.950400000000002
         ],
         "xaxis": "x",
         "y": [
          22238.446926025823,
          19631.639443272757,
          18845.66903960039,
          16630.774416469685,
          15733.28042255916,
          15432.008699537253,
          15271.157367462989,
          15261.562726602418,
          14268.460958469503
         ],
         "yaxis": "y"
        },
        {
         "customdata": [
          [
           "Kia Sedona",
           119000,
           2015
          ],
          [
           null,
           94026,
           2015
          ],
          [
           null,
           110335,
           2016
          ],
          [
           null,
           119000,
           2015
          ],
          [
           null,
           110028,
           2016
          ],
          [
           null,
           110449,
           2016
          ],
          [
           null,
           112752,
           2016
          ],
          [
           null,
           86479,
           2015
          ],
          [
           null,
           110449,
           2016
          ],
          [
           null,
           102588,
           2016
          ],
          [
           null,
           58537,
           2016
          ],
          [
           null,
           93723,
           2010
          ],
          [
           null,
           86479,
           2015
          ],
          [
           null,
           102588,
           2016
          ]
         ],
         "hovertemplate": "<b>%{hovertext}</b><br><br>symbol=pentagon<br>Wear=%{x}<br>Price=%{y}<br>CarNo=%{text}<br>Notes=%{customdata[0]}<br>Mileage=%{customdata[1]}<br>Year=%{customdata[2]}<br>color=%{marker.color}<extra></extra>",
         "hovertext": [
          33,
          34,
          35,
          36,
          37,
          38,
          39,
          40,
          41,
          42,
          43,
          44,
          45,
          46
         ],
         "legendgroup": "pentagon",
         "marker": {
          "color": [
           1,
           1,
           1,
           1,
           1,
           1,
           1,
           1,
           1,
           1,
           1,
           1,
           1,
           1
          ],
          "coloraxis": "coloraxis",
          "symbol": "square"
         },
         "mode": "markers+text",
         "name": "pentagon",
         "orientation": "v",
         "showlegend": true,
         "text": [
          33,
          34,
          35,
          36,
          37,
          38,
          39,
          40,
          41,
          42,
          43,
          44,
          45,
          46
         ],
         "textposition": "top center",
         "type": "scatter",
         "x": [
          8.866666666666667,
          5.5367999999999995,
          6.711333333333336,
          8.866666666666667,
          6.670400000000001,
          6.726533333333336,
          7.0336,
          4.530533333333331,
          6.726533333333336,
          5.6784,
          -0.1950666666666656,
          10.496400000000001,
          4.530533333333331,
          5.6784
         ],
         "xaxis": "x",
         "y": [
          8000,
          18612,
          10800,
          8000,
          15305,
          14989,
          11495,
          14500,
          14989,
          12245,
          18400,
          6299,
          14500,
          12245
         ],
         "yaxis": "y"
        },
        {
         "hovertemplate": "<b>OLS trendline</b><br>Price = -1186.12 * Wear + 20327.8<br>R<sup>2</sup>=0.634534<br><br>symbol=pentagon<br>Wear=%{x}<br>Price=%{y} <b>(trend)</b><extra></extra>",
         "legendgroup": "pentagon",
         "marker": {
          "symbol": "square"
         },
         "mode": "lines",
         "name": "pentagon",
         "showlegend": false,
         "textposition": "top center",
         "type": "scatter",
         "x": [
          -0.1950666666666656,
          4.530533333333331,
          4.530533333333331,
          5.5367999999999995,
          5.6784,
          5.6784,
          6.670400000000001,
          6.711333333333336,
          6.726533333333336,
          6.726533333333336,
          7.0336,
          8.866666666666667,
          8.866666666666667,
          10.496400000000001
         ],
         "xaxis": "x",
         "y": [
          20559.14853186138,
          14954.017244316612,
          14954.017244316612,
          13760.463668697275,
          13592.508998323918,
          13592.508998323918,
          12415.877409267625,
          12367.325541278336,
          12349.296508865376,
          12349.296508865376,
          11985.078424242176,
          9810.840375002133,
          9810.840375002133,
          7877.780171637203
         ],
         "yaxis": "y"
        }
       ],
       "layout": {
        "autosize": true,
        "coloraxis": {
         "colorbar": {
          "title": {
           "text": "color"
          }
         },
         "colorscale": [
          [
           0,
           "rgb(0,0,255)"
          ],
          [
           1,
           "rgb(255,0,0)"
          ]
         ]
        },
        "legend": {
         "title": {
          "text": "symbol"
         },
         "tracegroupgap": 0
        },
        "margin": {
         "t": 60
        },
        "template": {
         "data": {
          "bar": [
           {
            "error_x": {
             "color": "#2a3f5f"
            },
            "error_y": {
             "color": "#2a3f5f"
            },
            "marker": {
             "line": {
              "color": "#E5ECF6",
              "width": 0.5
             },
             "pattern": {
              "fillmode": "overlay",
              "size": 10,
              "solidity": 0.2
             }
            },
            "type": "bar"
           }
          ],
          "barpolar": [
           {
            "marker": {
             "line": {
              "color": "#E5ECF6",
              "width": 0.5
             },
             "pattern": {
              "fillmode": "overlay",
              "size": 10,
              "solidity": 0.2
             }
            },
            "type": "barpolar"
           }
          ],
          "carpet": [
           {
            "aaxis": {
             "endlinecolor": "#2a3f5f",
             "gridcolor": "white",
             "linecolor": "white",
             "minorgridcolor": "white",
             "startlinecolor": "#2a3f5f"
            },
            "baxis": {
             "endlinecolor": "#2a3f5f",
             "gridcolor": "white",
             "linecolor": "white",
             "minorgridcolor": "white",
             "startlinecolor": "#2a3f5f"
            },
            "type": "carpet"
           }
          ],
          "choropleth": [
           {
            "colorbar": {
             "outlinewidth": 0,
             "ticks": ""
            },
            "type": "choropleth"
           }
          ],
          "contour": [
           {
            "colorbar": {
             "outlinewidth": 0,
             "ticks": ""
            },
            "colorscale": [
             [
              0,
              "#0d0887"
             ],
             [
              0.1111111111111111,
              "#46039f"
             ],
             [
              0.2222222222222222,
              "#7201a8"
             ],
             [
              0.3333333333333333,
              "#9c179e"
             ],
             [
              0.4444444444444444,
              "#bd3786"
             ],
             [
              0.5555555555555556,
              "#d8576b"
             ],
             [
              0.6666666666666666,
              "#ed7953"
             ],
             [
              0.7777777777777778,
              "#fb9f3a"
             ],
             [
              0.8888888888888888,
              "#fdca26"
             ],
             [
              1,
              "#f0f921"
             ]
            ],
            "type": "contour"
           }
          ],
          "contourcarpet": [
           {
            "colorbar": {
             "outlinewidth": 0,
             "ticks": ""
            },
            "type": "contourcarpet"
           }
          ],
          "heatmap": [
           {
            "colorbar": {
             "outlinewidth": 0,
             "ticks": ""
            },
            "colorscale": [
             [
              0,
              "#0d0887"
             ],
             [
              0.1111111111111111,
              "#46039f"
             ],
             [
              0.2222222222222222,
              "#7201a8"
             ],
             [
              0.3333333333333333,
              "#9c179e"
             ],
             [
              0.4444444444444444,
              "#bd3786"
             ],
             [
              0.5555555555555556,
              "#d8576b"
             ],
             [
              0.6666666666666666,
              "#ed7953"
             ],
             [
              0.7777777777777778,
              "#fb9f3a"
             ],
             [
              0.8888888888888888,
              "#fdca26"
             ],
             [
              1,
              "#f0f921"
             ]
            ],
            "type": "heatmap"
           }
          ],
          "heatmapgl": [
           {
            "colorbar": {
             "outlinewidth": 0,
             "ticks": ""
            },
            "colorscale": [
             [
              0,
              "#0d0887"
             ],
             [
              0.1111111111111111,
              "#46039f"
             ],
             [
              0.2222222222222222,
              "#7201a8"
             ],
             [
              0.3333333333333333,
              "#9c179e"
             ],
             [
              0.4444444444444444,
              "#bd3786"
             ],
             [
              0.5555555555555556,
              "#d8576b"
             ],
             [
              0.6666666666666666,
              "#ed7953"
             ],
             [
              0.7777777777777778,
              "#fb9f3a"
             ],
             [
              0.8888888888888888,
              "#fdca26"
             ],
             [
              1,
              "#f0f921"
             ]
            ],
            "type": "heatmapgl"
           }
          ],
          "histogram": [
           {
            "marker": {
             "pattern": {
              "fillmode": "overlay",
              "size": 10,
              "solidity": 0.2
             }
            },
            "type": "histogram"
           }
          ],
          "histogram2d": [
           {
            "colorbar": {
             "outlinewidth": 0,
             "ticks": ""
            },
            "colorscale": [
             [
              0,
              "#0d0887"
             ],
             [
              0.1111111111111111,
              "#46039f"
             ],
             [
              0.2222222222222222,
              "#7201a8"
             ],
             [
              0.3333333333333333,
              "#9c179e"
             ],
             [
              0.4444444444444444,
              "#bd3786"
             ],
             [
              0.5555555555555556,
              "#d8576b"
             ],
             [
              0.6666666666666666,
              "#ed7953"
             ],
             [
              0.7777777777777778,
              "#fb9f3a"
             ],
             [
              0.8888888888888888,
              "#fdca26"
             ],
             [
              1,
              "#f0f921"
             ]
            ],
            "type": "histogram2d"
           }
          ],
          "histogram2dcontour": [
           {
            "colorbar": {
             "outlinewidth": 0,
             "ticks": ""
            },
            "colorscale": [
             [
              0,
              "#0d0887"
             ],
             [
              0.1111111111111111,
              "#46039f"
             ],
             [
              0.2222222222222222,
              "#7201a8"
             ],
             [
              0.3333333333333333,
              "#9c179e"
             ],
             [
              0.4444444444444444,
              "#bd3786"
             ],
             [
              0.5555555555555556,
              "#d8576b"
             ],
             [
              0.6666666666666666,
              "#ed7953"
             ],
             [
              0.7777777777777778,
              "#fb9f3a"
             ],
             [
              0.8888888888888888,
              "#fdca26"
             ],
             [
              1,
              "#f0f921"
             ]
            ],
            "type": "histogram2dcontour"
           }
          ],
          "mesh3d": [
           {
            "colorbar": {
             "outlinewidth": 0,
             "ticks": ""
            },
            "type": "mesh3d"
           }
          ],
          "parcoords": [
           {
            "line": {
             "colorbar": {
              "outlinewidth": 0,
              "ticks": ""
             }
            },
            "type": "parcoords"
           }
          ],
          "pie": [
           {
            "automargin": true,
            "type": "pie"
           }
          ],
          "scatter": [
           {
            "fillpattern": {
             "fillmode": "overlay",
             "size": 10,
             "solidity": 0.2
            },
            "type": "scatter"
           }
          ],
          "scatter3d": [
           {
            "line": {
             "colorbar": {
              "outlinewidth": 0,
              "ticks": ""
             }
            },
            "marker": {
             "colorbar": {
              "outlinewidth": 0,
              "ticks": ""
             }
            },
            "type": "scatter3d"
           }
          ],
          "scattercarpet": [
           {
            "marker": {
             "colorbar": {
              "outlinewidth": 0,
              "ticks": ""
             }
            },
            "type": "scattercarpet"
           }
          ],
          "scattergeo": [
           {
            "marker": {
             "colorbar": {
              "outlinewidth": 0,
              "ticks": ""
             }
            },
            "type": "scattergeo"
           }
          ],
          "scattergl": [
           {
            "marker": {
             "colorbar": {
              "outlinewidth": 0,
              "ticks": ""
             }
            },
            "type": "scattergl"
           }
          ],
          "scattermapbox": [
           {
            "marker": {
             "colorbar": {
              "outlinewidth": 0,
              "ticks": ""
             }
            },
            "type": "scattermapbox"
           }
          ],
          "scatterpolar": [
           {
            "marker": {
             "colorbar": {
              "outlinewidth": 0,
              "ticks": ""
             }
            },
            "type": "scatterpolar"
           }
          ],
          "scatterpolargl": [
           {
            "marker": {
             "colorbar": {
              "outlinewidth": 0,
              "ticks": ""
             }
            },
            "type": "scatterpolargl"
           }
          ],
          "scatterternary": [
           {
            "marker": {
             "colorbar": {
              "outlinewidth": 0,
              "ticks": ""
             }
            },
            "type": "scatterternary"
           }
          ],
          "surface": [
           {
            "colorbar": {
             "outlinewidth": 0,
             "ticks": ""
            },
            "colorscale": [
             [
              0,
              "#0d0887"
             ],
             [
              0.1111111111111111,
              "#46039f"
             ],
             [
              0.2222222222222222,
              "#7201a8"
             ],
             [
              0.3333333333333333,
              "#9c179e"
             ],
             [
              0.4444444444444444,
              "#bd3786"
             ],
             [
              0.5555555555555556,
              "#d8576b"
             ],
             [
              0.6666666666666666,
              "#ed7953"
             ],
             [
              0.7777777777777778,
              "#fb9f3a"
             ],
             [
              0.8888888888888888,
              "#fdca26"
             ],
             [
              1,
              "#f0f921"
             ]
            ],
            "type": "surface"
           }
          ],
          "table": [
           {
            "cells": {
             "fill": {
              "color": "#EBF0F8"
             },
             "line": {
              "color": "white"
             }
            },
            "header": {
             "fill": {
              "color": "#C8D4E3"
             },
             "line": {
              "color": "white"
             }
            },
            "type": "table"
           }
          ]
         },
         "layout": {
          "annotationdefaults": {
           "arrowcolor": "#2a3f5f",
           "arrowhead": 0,
           "arrowwidth": 1
          },
          "autotypenumbers": "strict",
          "coloraxis": {
           "colorbar": {
            "outlinewidth": 0,
            "ticks": ""
           }
          },
          "colorscale": {
           "diverging": [
            [
             0,
             "#8e0152"
            ],
            [
             0.1,
             "#c51b7d"
            ],
            [
             0.2,
             "#de77ae"
            ],
            [
             0.3,
             "#f1b6da"
            ],
            [
             0.4,
             "#fde0ef"
            ],
            [
             0.5,
             "#f7f7f7"
            ],
            [
             0.6,
             "#e6f5d0"
            ],
            [
             0.7,
             "#b8e186"
            ],
            [
             0.8,
             "#7fbc41"
            ],
            [
             0.9,
             "#4d9221"
            ],
            [
             1,
             "#276419"
            ]
           ],
           "sequential": [
            [
             0,
             "#0d0887"
            ],
            [
             0.1111111111111111,
             "#46039f"
            ],
            [
             0.2222222222222222,
             "#7201a8"
            ],
            [
             0.3333333333333333,
             "#9c179e"
            ],
            [
             0.4444444444444444,
             "#bd3786"
            ],
            [
             0.5555555555555556,
             "#d8576b"
            ],
            [
             0.6666666666666666,
             "#ed7953"
            ],
            [
             0.7777777777777778,
             "#fb9f3a"
            ],
            [
             0.8888888888888888,
             "#fdca26"
            ],
            [
             1,
             "#f0f921"
            ]
           ],
           "sequentialminus": [
            [
             0,
             "#0d0887"
            ],
            [
             0.1111111111111111,
             "#46039f"
            ],
            [
             0.2222222222222222,
             "#7201a8"
            ],
            [
             0.3333333333333333,
             "#9c179e"
            ],
            [
             0.4444444444444444,
             "#bd3786"
            ],
            [
             0.5555555555555556,
             "#d8576b"
            ],
            [
             0.6666666666666666,
             "#ed7953"
            ],
            [
             0.7777777777777778,
             "#fb9f3a"
            ],
            [
             0.8888888888888888,
             "#fdca26"
            ],
            [
             1,
             "#f0f921"
            ]
           ]
          },
          "colorway": [
           "#636efa",
           "#EF553B",
           "#00cc96",
           "#ab63fa",
           "#FFA15A",
           "#19d3f3",
           "#FF6692",
           "#B6E880",
           "#FF97FF",
           "#FECB52"
          ],
          "font": {
           "color": "#2a3f5f"
          },
          "geo": {
           "bgcolor": "white",
           "lakecolor": "white",
           "landcolor": "#E5ECF6",
           "showlakes": true,
           "showland": true,
           "subunitcolor": "white"
          },
          "hoverlabel": {
           "align": "left"
          },
          "hovermode": "closest",
          "mapbox": {
           "style": "light"
          },
          "paper_bgcolor": "white",
          "plot_bgcolor": "#E5ECF6",
          "polar": {
           "angularaxis": {
            "gridcolor": "white",
            "linecolor": "white",
            "ticks": ""
           },
           "bgcolor": "#E5ECF6",
           "radialaxis": {
            "gridcolor": "white",
            "linecolor": "white",
            "ticks": ""
           }
          },
          "scene": {
           "xaxis": {
            "backgroundcolor": "#E5ECF6",
            "gridcolor": "white",
            "gridwidth": 2,
            "linecolor": "white",
            "showbackground": true,
            "ticks": "",
            "zerolinecolor": "white"
           },
           "yaxis": {
            "backgroundcolor": "#E5ECF6",
            "gridcolor": "white",
            "gridwidth": 2,
            "linecolor": "white",
            "showbackground": true,
            "ticks": "",
            "zerolinecolor": "white"
           },
           "zaxis": {
            "backgroundcolor": "#E5ECF6",
            "gridcolor": "white",
            "gridwidth": 2,
            "linecolor": "white",
            "showbackground": true,
            "ticks": "",
            "zerolinecolor": "white"
           }
          },
          "shapedefaults": {
           "line": {
            "color": "#2a3f5f"
           }
          },
          "ternary": {
           "aaxis": {
            "gridcolor": "white",
            "linecolor": "white",
            "ticks": ""
           },
           "baxis": {
            "gridcolor": "white",
            "linecolor": "white",
            "ticks": ""
           },
           "bgcolor": "#E5ECF6",
           "caxis": {
            "gridcolor": "white",
            "linecolor": "white",
            "ticks": ""
           }
          },
          "title": {
           "x": 0.05
          },
          "xaxis": {
           "automargin": true,
           "gridcolor": "white",
           "linecolor": "white",
           "ticks": "",
           "title": {
            "standoff": 15
           },
           "zerolinecolor": "white",
           "zerolinewidth": 2
          },
          "yaxis": {
           "automargin": true,
           "gridcolor": "white",
           "linecolor": "white",
           "ticks": "",
           "title": {
            "standoff": 15
           },
           "zerolinecolor": "white",
           "zerolinewidth": 2
          }
         }
        },
        "xaxis": {
         "anchor": "y",
         "autorange": true,
         "domain": [
          0,
          1
         ],
         "range": [
          -2.3132506126531647,
          13.36365061265316
         ],
         "title": {
          "text": "Wear"
         },
         "type": "linear"
        },
        "yaxis": {
         "anchor": "x",
         "autorange": true,
         "domain": [
          0,
          1
         ],
         "range": [
          5010.218009478673,
          26341.781990521325
         ],
         "title": {
          "text": "Price"
         },
         "type": "linear"
        }
       }
      },
      "image/png": "[encoded data removed]",
      "text/html": [
       "<div>                            <div id=\"2ee3b920-d6e0-4058-bfd7-0e2fea098f1c\" class=\"plotly-graph-div\" style=\"height:500px; width:100%;\"></div>            <script type=\"text/javascript\">                require([\"plotly\"], function(Plotly) {                    window.PLOTLYENV=window.PLOTLYENV || {};                                    if (document.getElementById(\"2ee3b920-d6e0-4058-bfd7-0e2fea098f1c\")) {                    Plotly.newPlot(                        \"2ee3b920-d6e0-4058-bfd7-0e2fea098f1c\",                        [{\"customdata\":[[\"3 owners\",121588.0,2013.0],[\"1 owner\",111331.0,2016.0],[\"1 owner\",111033.0,2016.0],[null,116000.0,2016.0],[\"2 owners\",125123.0,2013.0],[\"4 owners, in KY\",82836.0,2010.0],[null,100000.0,2011.0],[\"2 owners\",110551.0,2016.0],[\"2 owners\",96500.0,2016.0],[\"SOLD\",83220.0,2014.0],[null,91000.0,2014.0],[null,110316.0,2016.0],[null,102047.0,2012.0],[null,118427.0,2012.0],[null,95640.0,2014.0],[null,65565.0,2013.0],[null,109000.0,2011.0],[null,120000.0,2012.0],[\"2 owners\",85000.0,2017.0],[null,106221.0,2015.0],[null,94178.0,2015.0],[\"Clean title, EX\",116357.0,2011.0],[\"2 owners clean title\",113997.0,2017.0]],\"hovertemplate\":\"<b>%{hovertext}</b><br><br>symbol=circle<br>Wear=%{x}<br>Price=%{y}<br>CarNo=%{text}<br>Notes=%{customdata[0]}<br>Mileage=%{customdata[1]}<br>Year=%{customdata[2]}<br>color=%{marker.color}<extra></extra>\",\"hovertext\":[1.0,4.0,5.0,6.0,8.0,9.0,11.0,12.0,13.0,14.0,15.0,16.0,17.0,18.0,19.0,20.0,21.0,22.0,23.0,24.0,30.0,31.0,32.0],\"legendgroup\":\"circle\",\"marker\":{\"color\":[0.0,0.0,0.0,0.0,0.0,0.5,0.0,0.0,0.0,0.5,0.0,0.5,0.0,0.0,0.0,0.0,0.5,0.0,0.0,0.0,0.5,0.0,0.0],\"coloraxis\":\"coloraxis\",\"symbol\":\"circle\"},\"mode\":\"markers+text\",\"name\":\"circle\",\"orientation\":\"v\",\"showlegend\":true,\"text\":[1.0,4.0,5.0,6.0,8.0,9.0,11.0,12.0,13.0,14.0,15.0,16.0,17.0,18.0,19.0,20.0,21.0,22.0,23.0,24.0,30.0,31.0,32.0],\"x\":[11.211733333333335,6.844133333333332,6.804400000000001,7.466666666666669,11.683066666666665,9.044800000000002,10.333333333333336,6.740133333333333,4.866666666666667,5.096,6.133333333333333,6.7088,9.606266666666667,11.790266666666668,6.7520000000000024,3.742000000000001,11.533333333333331,12.0,2.3333333333333357,7.162800000000001,5.5570666666666675,12.514266666666664,6.1996],\"xaxis\":\"x\",\"y\":[12395.0,17750.0,16990.0,14900.0,12499.0,11129.0,13500.0,19500.0,17900.0,14000.0,17800.0,14300.0,14899.0,11995.0,15950.0,19450.0,8500.0,14800.0,19950.0,19900.0,18900.0,12800.0,19990.0],\"yaxis\":\"y\",\"type\":\"scatter\",\"textposition\":\"top center\"},{\"hovertemplate\":\"<b>OLS trendline</b><br>Price = -869.878 * Wear + 22531.4<br>R<sup>2</sup>=0.596366<br><br>symbol=circle<br>Wear=%{x}<br>Price=%{y} <b>(trend)</b><extra></extra>\",\"legendgroup\":\"circle\",\"marker\":{\"symbol\":\"circle\"},\"mode\":\"lines\",\"name\":\"circle\",\"showlegend\":false,\"x\":[2.3333333333333357,3.742000000000001,4.866666666666667,5.096,5.5570666666666675,6.133333333333333,6.1996,6.7088,6.740133333333333,6.7520000000000024,6.804400000000001,6.844133333333332,7.162800000000001,7.466666666666669,9.044800000000002,9.606266666666667,10.333333333333336,11.211733333333335,11.533333333333331,11.683066666666665,11.790266666666668,12.0,12.514266666666664],\"xaxis\":\"x\",\"y\":[20501.70539201987,19276.337075967986,18298.014146872134,18098.522097311394,17697.450290694505,17196.168524298268,17138.52460067519,16695.582660400498,16668.32647921051,16658.003925483237,16612.422311833605,16577.85915440971,16300.657992520071,16036.331026852087,14663.54736487479,14175.139794700208,13542.680407342805,12778.579464025264,12498.826659641249,12368.576908678042,12275.325973883368,12092.883535535086,11645.534212770097],\"yaxis\":\"y\",\"type\":\"scatter\",\"textposition\":\"top center\"},{\"customdata\":[[\"1 accident, 3 owners\",95745.0,2014.0],[\"1 accident, 3 owners\",101820.0,2015.0],[\"1 accident, 2 owners\",91651.0,2014.0],[\"Rebuilt Title - 1 owner - reached out ... now response yet\",110830.0,2016.0],[\"Rebuilt title\",71578.0,2015.0],[\"Rebuilt title - 2 owners\",56521.0,2017.0],[null,89628.0,2012.0],[\"2 accidents, 1 owner\",87115.0,2018.0],[\"1 accident, 1 previous owner\",98700.0,2016.0]],\"hovertemplate\":\"<b>%{hovertext}</b><br><br>symbol=circle-x<br>Wear=%{x}<br>Price=%{y}<br>CarNo=%{text}<br>Notes=%{customdata[0]}<br>Mileage=%{customdata[1]}<br>Year=%{customdata[2]}<br>color=%{marker.color}<extra></extra>\",\"hovertext\":[2.0,3.0,7.0,10.0,25.0,26.0,27.0,28.0,29.0],\"legendgroup\":\"circle-x\",\"marker\":{\"color\":[0.0,0.0,0.0,0.0,0.0,0.0,0.0,0.0,0.0],\"coloraxis\":\"coloraxis\",\"symbol\":\"diamond\"},\"mode\":\"markers+text\",\"name\":\"circle-x\",\"orientation\":\"v\",\"showlegend\":true,\"text\":[2.0,3.0,7.0,10.0,25.0,26.0,27.0,28.0,29.0],\"x\":[6.765999999999998,6.5760000000000005,6.220133333333333,6.777333333333331,2.5437333333333356,-1.463866666666668,7.950400000000002,1.6153333333333322,5.16],\"xaxis\":\"x\",\"y\":[14997.0,16995.0,17075.0,15100.0,13950.0,20000.0,10200.0,25053.0,19943.0],\"yaxis\":\"y\",\"type\":\"scatter\",\"textposition\":\"top center\"},{\"hovertemplate\":\"<b>OLS trendline</b><br>Price = -846.586 * Wear + 20999.2<br>R<sup>2</sup>=0.380544<br><br>symbol=circle-x<br>Wear=%{x}<br>Price=%{y} <b>(trend)</b><extra></extra>\",\"legendgroup\":\"circle-x\",\"marker\":{\"symbol\":\"diamond\"},\"mode\":\"lines\",\"name\":\"circle-x\",\"showlegend\":false,\"x\":[-1.463866666666668,1.6153333333333322,2.5437333333333356,5.16,6.220133333333333,6.5760000000000005,6.765999999999998,6.777333333333331,7.950400000000002],\"xaxis\":\"x\",\"y\":[22238.446926025823,19631.639443272757,18845.66903960039,16630.774416469685,15733.28042255916,15432.008699537253,15271.157367462989,15261.562726602418,14268.460958469503],\"yaxis\":\"y\",\"type\":\"scatter\",\"textposition\":\"top center\"},{\"customdata\":[[\"Kia Sedona\",119000.0,2015.0],[null,94026.0,2015.0],[null,110335.0,2016.0],[null,119000.0,2015.0],[null,110028.0,2016.0],[null,110449.0,2016.0],[null,112752.0,2016.0],[null,86479.0,2015.0],[null,110449.0,2016.0],[null,102588.0,2016.0],[null,58537.0,2016.0],[null,93723.0,2010.0],[null,86479.0,2015.0],[null,102588.0,2016.0]],\"hovertemplate\":\"<b>%{hovertext}</b><br><br>symbol=pentagon<br>Wear=%{x}<br>Price=%{y}<br>CarNo=%{text}<br>Notes=%{customdata[0]}<br>Mileage=%{customdata[1]}<br>Year=%{customdata[2]}<br>color=%{marker.color}<extra></extra>\",\"hovertext\":[33.0,34.0,35.0,36.0,37.0,38.0,39.0,40.0,41.0,42.0,43.0,44.0,45.0,46.0],\"legendgroup\":\"pentagon\",\"marker\":{\"color\":[1.0,1.0,1.0,1.0,1.0,1.0,1.0,1.0,1.0,1.0,1.0,1.0,1.0,1.0],\"coloraxis\":\"coloraxis\",\"symbol\":\"square\"},\"mode\":\"markers+text\",\"name\":\"pentagon\",\"orientation\":\"v\",\"showlegend\":true,\"text\":[33.0,34.0,35.0,36.0,37.0,38.0,39.0,40.0,41.0,42.0,43.0,44.0,45.0,46.0],\"x\":[8.866666666666667,5.5367999999999995,6.711333333333336,8.866666666666667,6.670400000000001,6.726533333333336,7.0336,4.530533333333331,6.726533333333336,5.6784,-0.1950666666666656,10.496400000000001,4.530533333333331,5.6784],\"xaxis\":\"x\",\"y\":[8000.0,18612.0,10800.0,8000.0,15305.0,14989.0,11495.0,14500.0,14989.0,12245.0,18400.0,6299.0,14500.0,12245.0],\"yaxis\":\"y\",\"type\":\"scatter\",\"textposition\":\"top center\"},{\"hovertemplate\":\"<b>OLS trendline</b><br>Price = -1186.12 * Wear + 20327.8<br>R<sup>2</sup>=0.634534<br><br>symbol=pentagon<br>Wear=%{x}<br>Price=%{y} <b>(trend)</b><extra></extra>\",\"legendgroup\":\"pentagon\",\"marker\":{\"symbol\":\"square\"},\"mode\":\"lines\",\"name\":\"pentagon\",\"showlegend\":false,\"x\":[-0.1950666666666656,4.530533333333331,4.530533333333331,5.5367999999999995,5.6784,5.6784,6.670400000000001,6.711333333333336,6.726533333333336,6.726533333333336,7.0336,8.866666666666667,8.866666666666667,10.496400000000001],\"xaxis\":\"x\",\"y\":[20559.14853186138,14954.017244316612,14954.017244316612,13760.463668697275,13592.508998323918,13592.508998323918,12415.877409267625,12367.325541278336,12349.296508865376,12349.296508865376,11985.078424242176,9810.840375002133,9810.840375002133,7877.780171637203],\"yaxis\":\"y\",\"type\":\"scatter\",\"textposition\":\"top center\"}],                        {\"template\":{\"data\":{\"histogram2dcontour\":[{\"type\":\"histogram2dcontour\",\"colorbar\":{\"outlinewidth\":0,\"ticks\":\"\"},\"colorscale\":[[0.0,\"#0d0887\"],[0.1111111111111111,\"#46039f\"],[0.2222222222222222,\"#7201a8\"],[0.3333333333333333,\"#9c179e\"],[0.4444444444444444,\"#bd3786\"],[0.5555555555555556,\"#d8576b\"],[0.6666666666666666,\"#ed7953\"],[0.7777777777777778,\"#fb9f3a\"],[0.8888888888888888,\"#fdca26\"],[1.0,\"#f0f921\"]]}],\"choropleth\":[{\"type\":\"choropleth\",\"colorbar\":{\"outlinewidth\":0,\"ticks\":\"\"}}],\"histogram2d\":[{\"type\":\"histogram2d\",\"colorbar\":{\"outlinewidth\":0,\"ticks\":\"\"},\"colorscale\":[[0.0,\"#0d0887\"],[0.1111111111111111,\"#46039f\"],[0.2222222222222222,\"#7201a8\"],[0.3333333333333333,\"#9c179e\"],[0.4444444444444444,\"#bd3786\"],[0.5555555555555556,\"#d8576b\"],[0.6666666666666666,\"#ed7953\"],[0.7777777777777778,\"#fb9f3a\"],[0.8888888888888888,\"#fdca26\"],[1.0,\"#f0f921\"]]}],\"heatmap\":[{\"type\":\"heatmap\",\"colorbar\":{\"outlinewidth\":0,\"ticks\":\"\"},\"colorscale\":[[0.0,\"#0d0887\"],[0.1111111111111111,\"#46039f\"],[0.2222222222222222,\"#7201a8\"],[0.3333333333333333,\"#9c179e\"],[0.4444444444444444,\"#bd3786\"],[0.5555555555555556,\"#d8576b\"],[0.6666666666666666,\"#ed7953\"],[0.7777777777777778,\"#fb9f3a\"],[0.8888888888888888,\"#fdca26\"],[1.0,\"#f0f921\"]]}],\"heatmapgl\":[{\"type\":\"heatmapgl\",\"colorbar\":{\"outlinewidth\":0,\"ticks\":\"\"},\"colorscale\":[[0.0,\"#0d0887\"],[0.1111111111111111,\"#46039f\"],[0.2222222222222222,\"#7201a8\"],[0.3333333333333333,\"#9c179e\"],[0.4444444444444444,\"#bd3786\"],[0.5555555555555556,\"#d8576b\"],[0.6666666666666666,\"#ed7953\"],[0.7777777777777778,\"#fb9f3a\"],[0.8888888888888888,\"#fdca26\"],[1.0,\"#f0f921\"]]}],\"contourcarpet\":[{\"type\":\"contourcarpet\",\"colorbar\":{\"outlinewidth\":0,\"ticks\":\"\"}}],\"contour\":[{\"type\":\"contour\",\"colorbar\":{\"outlinewidth\":0,\"ticks\":\"\"},\"colorscale\":[[0.0,\"#0d0887\"],[0.1111111111111111,\"#46039f\"],[0.2222222222222222,\"#7201a8\"],[0.3333333333333333,\"#9c179e\"],[0.4444444444444444,\"#bd3786\"],[0.5555555555555556,\"#d8576b\"],[0.6666666666666666,\"#ed7953\"],[0.7777777777777778,\"#fb9f3a\"],[0.8888888888888888,\"#fdca26\"],[1.0,\"#f0f921\"]]}],\"surface\":[{\"type\":\"surface\",\"colorbar\":{\"outlinewidth\":0,\"ticks\":\"\"},\"colorscale\":[[0.0,\"#0d0887\"],[0.1111111111111111,\"#46039f\"],[0.2222222222222222,\"#7201a8\"],[0.3333333333333333,\"#9c179e\"],[0.4444444444444444,\"#bd3786\"],[0.5555555555555556,\"#d8576b\"],[0.6666666666666666,\"#ed7953\"],[0.7777777777777778,\"#fb9f3a\"],[0.8888888888888888,\"#fdca26\"],[1.0,\"#f0f921\"]]}],\"mesh3d\":[{\"type\":\"mesh3d\",\"colorbar\":{\"outlinewidth\":0,\"ticks\":\"\"}}],\"scatter\":[{\"fillpattern\":{\"fillmode\":\"overlay\",\"size\":10,\"solidity\":0.2},\"type\":\"scatter\"}],\"parcoords\":[{\"type\":\"parcoords\",\"line\":{\"colorbar\":{\"outlinewidth\":0,\"ticks\":\"\"}}}],\"scatterpolargl\":[{\"type\":\"scatterpolargl\",\"marker\":{\"colorbar\":{\"outlinewidth\":0,\"ticks\":\"\"}}}],\"bar\":[{\"error_x\":{\"color\":\"#2a3f5f\"},\"error_y\":{\"color\":\"#2a3f5f\"},\"marker\":{\"line\":{\"color\":\"#E5ECF6\",\"width\":0.5},\"pattern\":{\"fillmode\":\"overlay\",\"size\":10,\"solidity\":0.2}},\"type\":\"bar\"}],\"scattergeo\":[{\"type\":\"scattergeo\",\"marker\":{\"colorbar\":{\"outlinewidth\":0,\"ticks\":\"\"}}}],\"scatterpolar\":[{\"type\":\"scatterpolar\",\"marker\":{\"colorbar\":{\"outlinewidth\":0,\"ticks\":\"\"}}}],\"histogram\":[{\"marker\":{\"pattern\":{\"fillmode\":\"overlay\",\"size\":10,\"solidity\":0.2}},\"type\":\"histogram\"}],\"scattergl\":[{\"type\":\"scattergl\",\"marker\":{\"colorbar\":{\"outlinewidth\":0,\"ticks\":\"\"}}}],\"scatter3d\":[{\"type\":\"scatter3d\",\"line\":{\"colorbar\":{\"outlinewidth\":0,\"ticks\":\"\"}},\"marker\":{\"colorbar\":{\"outlinewidth\":0,\"ticks\":\"\"}}}],\"scattermapbox\":[{\"type\":\"scattermapbox\",\"marker\":{\"colorbar\":{\"outlinewidth\":0,\"ticks\":\"\"}}}],\"scatterternary\":[{\"type\":\"scatterternary\",\"marker\":{\"colorbar\":{\"outlinewidth\":0,\"ticks\":\"\"}}}],\"scattercarpet\":[{\"type\":\"scattercarpet\",\"marker\":{\"colorbar\":{\"outlinewidth\":0,\"ticks\":\"\"}}}],\"carpet\":[{\"aaxis\":{\"endlinecolor\":\"#2a3f5f\",\"gridcolor\":\"white\",\"linecolor\":\"white\",\"minorgridcolor\":\"white\",\"startlinecolor\":\"#2a3f5f\"},\"baxis\":{\"endlinecolor\":\"#2a3f5f\",\"gridcolor\":\"white\",\"linecolor\":\"white\",\"minorgridcolor\":\"white\",\"startlinecolor\":\"#2a3f5f\"},\"type\":\"carpet\"}],\"table\":[{\"cells\":{\"fill\":{\"color\":\"#EBF0F8\"},\"line\":{\"color\":\"white\"}},\"header\":{\"fill\":{\"color\":\"#C8D4E3\"},\"line\":{\"color\":\"white\"}},\"type\":\"table\"}],\"barpolar\":[{\"marker\":{\"line\":{\"color\":\"#E5ECF6\",\"width\":0.5},\"pattern\":{\"fillmode\":\"overlay\",\"size\":10,\"solidity\":0.2}},\"type\":\"barpolar\"}],\"pie\":[{\"automargin\":true,\"type\":\"pie\"}]},\"layout\":{\"autotypenumbers\":\"strict\",\"colorway\":[\"#636efa\",\"#EF553B\",\"#00cc96\",\"#ab63fa\",\"#FFA15A\",\"#19d3f3\",\"#FF6692\",\"#B6E880\",\"#FF97FF\",\"#FECB52\"],\"font\":{\"color\":\"#2a3f5f\"},\"hovermode\":\"closest\",\"hoverlabel\":{\"align\":\"left\"},\"paper_bgcolor\":\"white\",\"plot_bgcolor\":\"#E5ECF6\",\"polar\":{\"bgcolor\":\"#E5ECF6\",\"angularaxis\":{\"gridcolor\":\"white\",\"linecolor\":\"white\",\"ticks\":\"\"},\"radialaxis\":{\"gridcolor\":\"white\",\"linecolor\":\"white\",\"ticks\":\"\"}},\"ternary\":{\"bgcolor\":\"#E5ECF6\",\"aaxis\":{\"gridcolor\":\"white\",\"linecolor\":\"white\",\"ticks\":\"\"},\"baxis\":{\"gridcolor\":\"white\",\"linecolor\":\"white\",\"ticks\":\"\"},\"caxis\":{\"gridcolor\":\"white\",\"linecolor\":\"white\",\"ticks\":\"\"}},\"coloraxis\":{\"colorbar\":{\"outlinewidth\":0,\"ticks\":\"\"}},\"colorscale\":{\"sequential\":[[0.0,\"#0d0887\"],[0.1111111111111111,\"#46039f\"],[0.2222222222222222,\"#7201a8\"],[0.3333333333333333,\"#9c179e\"],[0.4444444444444444,\"#bd3786\"],[0.5555555555555556,\"#d8576b\"],[0.6666666666666666,\"#ed7953\"],[0.7777777777777778,\"#fb9f3a\"],[0.8888888888888888,\"#fdca26\"],[1.0,\"#f0f921\"]],\"sequentialminus\":[[0.0,\"#0d0887\"],[0.1111111111111111,\"#46039f\"],[0.2222222222222222,\"#7201a8\"],[0.3333333333333333,\"#9c179e\"],[0.4444444444444444,\"#bd3786\"],[0.5555555555555556,\"#d8576b\"],[0.6666666666666666,\"#ed7953\"],[0.7777777777777778,\"#fb9f3a\"],[0.8888888888888888,\"#fdca26\"],[1.0,\"#f0f921\"]],\"diverging\":[[0,\"#8e0152\"],[0.1,\"#c51b7d\"],[0.2,\"#de77ae\"],[0.3,\"#f1b6da\"],[0.4,\"#fde0ef\"],[0.5,\"#f7f7f7\"],[0.6,\"#e6f5d0\"],[0.7,\"#b8e186\"],[0.8,\"#7fbc41\"],[0.9,\"#4d9221\"],[1,\"#276419\"]]},\"xaxis\":{\"gridcolor\":\"white\",\"linecolor\":\"white\",\"ticks\":\"\",\"title\":{\"standoff\":15},\"zerolinecolor\":\"white\",\"automargin\":true,\"zerolinewidth\":2},\"yaxis\":{\"gridcolor\":\"white\",\"linecolor\":\"white\",\"ticks\":\"\",\"title\":{\"standoff\":15},\"zerolinecolor\":\"white\",\"automargin\":true,\"zerolinewidth\":2},\"scene\":{\"xaxis\":{\"backgroundcolor\":\"#E5ECF6\",\"gridcolor\":\"white\",\"linecolor\":\"white\",\"showbackground\":true,\"ticks\":\"\",\"zerolinecolor\":\"white\",\"gridwidth\":2},\"yaxis\":{\"backgroundcolor\":\"#E5ECF6\",\"gridcolor\":\"white\",\"linecolor\":\"white\",\"showbackground\":true,\"ticks\":\"\",\"zerolinecolor\":\"white\",\"gridwidth\":2},\"zaxis\":{\"backgroundcolor\":\"#E5ECF6\",\"gridcolor\":\"white\",\"linecolor\":\"white\",\"showbackground\":true,\"ticks\":\"\",\"zerolinecolor\":\"white\",\"gridwidth\":2}},\"shapedefaults\":{\"line\":{\"color\":\"#2a3f5f\"}},\"annotationdefaults\":{\"arrowcolor\":\"#2a3f5f\",\"arrowhead\":0,\"arrowwidth\":1},\"geo\":{\"bgcolor\":\"white\",\"landcolor\":\"#E5ECF6\",\"subunitcolor\":\"white\",\"showland\":true,\"showlakes\":true,\"lakecolor\":\"white\"},\"title\":{\"x\":0.05},\"mapbox\":{\"style\":\"light\"}}},\"xaxis\":{\"anchor\":\"y\",\"domain\":[0.0,1.0],\"title\":{\"text\":\"Wear\"}},\"yaxis\":{\"anchor\":\"x\",\"domain\":[0.0,1.0],\"title\":{\"text\":\"Price\"}},\"coloraxis\":{\"colorbar\":{\"title\":{\"text\":\"color\"}},\"colorscale\":[[0.0,\"rgb(0,0,255)\"],[1.0,\"rgb(255,0,0)\"]]},\"legend\":{\"title\":{\"text\":\"symbol\"},\"tracegroupgap\":0},\"margin\":{\"t\":60},\"height\":500},                        {\"responsive\": true}                    ).then(function(){\n",
       "                            \n",
       "var gd = document.getElementById('2ee3b920-d6e0-4058-bfd7-0e2fea098f1c');\n",
       "var x = new MutationObserver(function (mutations, observer) {{\n",
       "        var display = window.getComputedStyle(gd).display;\n",
       "        if (!display || display === 'none') {{\n",
       "            console.log([gd, 'removed!']);\n",
       "            Plotly.purge(gd);\n",
       "            observer.disconnect();\n",
       "        }}\n",
       "}});\n",
       "\n",
       "// Listen for the removal of the full notebook cells\n",
       "var notebookContainer = gd.closest('#notebook-container');\n",
       "if (notebookContainer) {{\n",
       "    x.observe(notebookContainer, {childList: true});\n",
       "}}\n",
       "\n",
       "// Listen for the clearing of the current output cell\n",
       "var outputEl = gd.closest('.output');\n",
       "if (outputEl) {{\n",
       "    x.observe(outputEl, {childList: true});\n",
       "}}\n",
       "\n",
       "                        })                };                });            </script>        </div>"
      ]
     },
     "metadata": {},
     "output_type": "display_data"
    }
   ],
   "source": [
    "df = read_sheet()\n",
    "df['symbol'] = df['Vehicle'].map({'Honda - X':'circle-x', 'Honda':'circle', 'Kia':'pentagon'})\n",
    "df['color'] = df['Status'].apply(lambda s: 'None' if pd.isna(s) else s).map({'None': 1, 'NO': 0, 'EXPENSIVE': 0, 'SOLD': 0.5})\n",
    "px_chart = px.scatter(df, x='Wear', y='Price', trendline='ols', height=500, hover_name='CarNo', hover_data=['Notes', 'Price', 'Mileage', 'Year'], \n",
    "          text='CarNo', symbol='symbol', color='color', color_continuous_scale=px.colors.sequential.Bluered\n",
    ") #,  , color='CarNo'\n",
    "#color_discrete_map = {'None': 'blue', 'NO': 'red', 'SOLD': 'gray'}\n",
    "px_chart.update_traces(textposition='top center')\n",
    "\n",
    "#range_color=[1, ]\n",
    "\n",
    "#dir(px.colors.sequential)"
   ]
  },
  {
   "cell_type": "code",
   "execution_count": 108,
   "id": "9e568038-c57b-43d6-a2a4-98fd94820390",
   "metadata": {},
   "outputs": [],
   "source": [
    "import requests\n",
    "from bs4 import BeautifulSoup as BS\n",
    "\n"
   ]
  },
  {
   "cell_type": "code",
   "execution_count": null,
   "id": "644f249c-0b7f-421f-b634-a617181713e5",
   "metadata": {},
   "outputs": [],
   "source": [
    "lafayette = 'https://tippecanoe.craigslist.org/search/cta?auto_make_model=honda%20odyssey&max_auto_miles=120000&max_price=20000&min_auto_year=2010&min_price=8000#search=1~gallery~0~0'\n",
    "indy = 'https://indianapolis.craigslist.org/search/cta?auto_make_model=honda%20odyssey&max_auto_miles=120000&max_price=20000&min_auto_year=2010&min_price=8000#search=1~gallery~0~0'\n",
    "\n",
    "def get_product_page_url(li):\n",
    "    return li\n",
    "\n",
    "def get_links(url):\n",
    "    bs = BS(requests.get(url).content)\n",
    "    url_list = []\n",
    "    for li in bs.find_all('li'):\n",
    "        print(li)\n",
    "        if 'nearby-separator' in li.attrs['class']:\n",
    "            break\n",
    "        url = get_product_page_url(li)\n",
    "        url_list.append(url)\n",
    "    return url_list\n",
    "\n",
    "get_links(lafayette)"
   ]
  },
  {
   "cell_type": "code",
   "execution_count": 117,
   "id": "7ba4d222-8be3-45d9-944c-1494a7d77244",
   "metadata": {},
   "outputs": [],
   "source": [
    "import requests\n",
    "\n",
    "cookies = {\n",
    "    'cl_b': '4|b511ba94d6c409716b5ba9c764bb2352c41355c9|1680466637C7tyQ',\n",
    "    'cl_tocmode': 'sss%3Agrid',\n",
    "    'cl_def_hp': 'tippecanoe',\n",
    "    'amp_a0683b': 'eA81tUGGVCJgsysD4d953I.dTBvdzJsNWloOHJwaw==..1guv7oo5u.1guv8ao6d.0.0.0',\n",
    "}\n",
    "\n",
    "headers = {\n",
    "    'Accept': 'text/html,application/xhtml+xml,application/xml;q=0.9,image/avif,image/webp,image/apng,*/*;q=0.8,application/signed-exchange;v=b3;q=0.7',\n",
    "    'Accept-Language': 'en-US,en;q=0.9',\n",
    "    'Cache-Control': 'max-age=0',\n",
    "    'Connection': 'keep-alive',\n",
    "    # 'Cookie': 'cl_b=4|b511ba94d6c409716b5ba9c764bb2352c41355c9|1680466637C7tyQ; cl_tocmode=sss%3Agrid; cl_def_hp=tippecanoe; amp_a0683b=eA81tUGGVCJgsysD4d953I.dTBvdzJsNWloOHJwaw==..1guv7oo5u.1guv8ao6d.0.0.0',\n",
    "    'If-Modified-Since': 'Wed, 26 Apr 2023 16:56:20 GMT',\n",
    "    'Sec-Fetch-Dest': 'document',\n",
    "    'Sec-Fetch-Mode': 'navigate',\n",
    "    'Sec-Fetch-Site': 'same-origin',\n",
    "    'Sec-Fetch-User': '?1',\n",
    "    'Upgrade-Insecure-Requests': '1',\n",
    "    'User-Agent': 'Mozilla/5.0 (Macintosh; Intel Mac OS X 10_15_7) AppleWebKit/537.36 (KHTML, like Gecko) Chrome/112.0.0.0 Safari/537.36',\n",
    "    'sec-ch-ua': '\"Chromium\";v=\"112\", \"Google Chrome\";v=\"112\", \"Not:A-Brand\";v=\"99\"',\n",
    "    'sec-ch-ua-mobile': '?0',\n",
    "    'sec-ch-ua-platform': '\"macOS\"',\n",
    "}\n",
    "\n",
    "params = {\n",
    "    'auto_make_model': 'honda odyssey',\n",
    "    'max_auto_miles': '120000',\n",
    "    'max_price': '20000',\n",
    "    'min_auto_year': '2010',\n",
    "    'min_price': '8000',\n",
    "}\n",
    "\n",
    "response = requests.get('https://indianapolis.craigslist.org/search/cta', params=params, cookies=cookies, headers=headers)\n",
    "\n"
   ]
  },
  {
   "cell_type": "code",
   "execution_count": 123,
   "id": "33c9c732-4e2b-46ca-b44f-6d4fa08503d9",
   "metadata": {},
   "outputs": [
    {
     "ename": "RuntimeError",
     "evalue": "Cannot use HTMLSession within an existing event loop. Use AsyncHTMLSession instead.",
     "output_type": "error",
     "traceback": [
      "\u001b[0;31m---------------------------------------------------------------------------\u001b[0m",
      "\u001b[0;31mRuntimeError\u001b[0m                              Traceback (most recent call last)",
      "Cell \u001b[0;32mIn [123], line 11\u001b[0m\n\u001b[1;32m      7\u001b[0m session \u001b[38;5;241m=\u001b[39m HTMLSession()\n\u001b[1;32m      9\u001b[0m r \u001b[38;5;241m=\u001b[39m session\u001b[38;5;241m.\u001b[39mget(\u001b[38;5;124m'\u001b[39m\u001b[38;5;124mhttps://indianapolis.craigslist.org/search/cta\u001b[39m\u001b[38;5;124m'\u001b[39m)\n\u001b[0;32m---> 11\u001b[0m \u001b[43mr\u001b[49m\u001b[38;5;241;43m.\u001b[39;49m\u001b[43mhtml\u001b[49m\u001b[38;5;241;43m.\u001b[39;49m\u001b[43mrender\u001b[49m\u001b[43m(\u001b[49m\u001b[43m)\u001b[49m\n",
      "File \u001b[0;32m/usr/local/lib/python3.10/site-packages/requests_html.py:586\u001b[0m, in \u001b[0;36mHTML.render\u001b[0;34m(self, retries, script, wait, scrolldown, sleep, reload, timeout, keep_page)\u001b[0m\n\u001b[1;32m    541\u001b[0m \u001b[38;5;28;01mdef\u001b[39;00m \u001b[38;5;21mrender\u001b[39m(\u001b[38;5;28mself\u001b[39m, retries: \u001b[38;5;28mint\u001b[39m \u001b[38;5;241m=\u001b[39m \u001b[38;5;241m8\u001b[39m, script: \u001b[38;5;28mstr\u001b[39m \u001b[38;5;241m=\u001b[39m \u001b[38;5;28;01mNone\u001b[39;00m, wait: \u001b[38;5;28mfloat\u001b[39m \u001b[38;5;241m=\u001b[39m \u001b[38;5;241m0.2\u001b[39m, scrolldown\u001b[38;5;241m=\u001b[39m\u001b[38;5;28;01mFalse\u001b[39;00m, sleep: \u001b[38;5;28mint\u001b[39m \u001b[38;5;241m=\u001b[39m \u001b[38;5;241m0\u001b[39m, reload: \u001b[38;5;28mbool\u001b[39m \u001b[38;5;241m=\u001b[39m \u001b[38;5;28;01mTrue\u001b[39;00m, timeout: Union[\u001b[38;5;28mfloat\u001b[39m, \u001b[38;5;28mint\u001b[39m] \u001b[38;5;241m=\u001b[39m \u001b[38;5;241m8.0\u001b[39m, keep_page: \u001b[38;5;28mbool\u001b[39m \u001b[38;5;241m=\u001b[39m \u001b[38;5;28;01mFalse\u001b[39;00m):\n\u001b[1;32m    542\u001b[0m     \u001b[38;5;124;03m\"\"\"Reloads the response in Chromium, and replaces HTML content\u001b[39;00m\n\u001b[1;32m    543\u001b[0m \u001b[38;5;124;03m    with an updated version, with JavaScript executed.\u001b[39;00m\n\u001b[1;32m    544\u001b[0m \n\u001b[0;32m   (...)\u001b[0m\n\u001b[1;32m    583\u001b[0m \u001b[38;5;124;03m    Chromium into your home directory (``~/.pyppeteer``).\u001b[39;00m\n\u001b[1;32m    584\u001b[0m \u001b[38;5;124;03m    \"\"\"\u001b[39;00m\n\u001b[0;32m--> 586\u001b[0m     \u001b[38;5;28mself\u001b[39m\u001b[38;5;241m.\u001b[39mbrowser \u001b[38;5;241m=\u001b[39m \u001b[38;5;28;43mself\u001b[39;49m\u001b[38;5;241;43m.\u001b[39;49m\u001b[43msession\u001b[49m\u001b[38;5;241;43m.\u001b[39;49m\u001b[43mbrowser\u001b[49m  \u001b[38;5;66;03m# Automatically create a event loop and browser\u001b[39;00m\n\u001b[1;32m    587\u001b[0m     content \u001b[38;5;241m=\u001b[39m \u001b[38;5;28;01mNone\u001b[39;00m\n\u001b[1;32m    589\u001b[0m     \u001b[38;5;66;03m# Automatically set Reload to False, if example URL is being used.\u001b[39;00m\n",
      "File \u001b[0;32m/usr/local/lib/python3.10/site-packages/requests_html.py:729\u001b[0m, in \u001b[0;36mHTMLSession.browser\u001b[0;34m(self)\u001b[0m\n\u001b[1;32m    727\u001b[0m     \u001b[38;5;28mself\u001b[39m\u001b[38;5;241m.\u001b[39mloop \u001b[38;5;241m=\u001b[39m asyncio\u001b[38;5;241m.\u001b[39mget_event_loop()\n\u001b[1;32m    728\u001b[0m     \u001b[38;5;28;01mif\u001b[39;00m \u001b[38;5;28mself\u001b[39m\u001b[38;5;241m.\u001b[39mloop\u001b[38;5;241m.\u001b[39mis_running():\n\u001b[0;32m--> 729\u001b[0m         \u001b[38;5;28;01mraise\u001b[39;00m \u001b[38;5;167;01mRuntimeError\u001b[39;00m(\u001b[38;5;124m\"\u001b[39m\u001b[38;5;124mCannot use HTMLSession within an existing event loop. Use AsyncHTMLSession instead.\u001b[39m\u001b[38;5;124m\"\u001b[39m)\n\u001b[1;32m    730\u001b[0m     \u001b[38;5;28mself\u001b[39m\u001b[38;5;241m.\u001b[39m_browser \u001b[38;5;241m=\u001b[39m \u001b[38;5;28mself\u001b[39m\u001b[38;5;241m.\u001b[39mloop\u001b[38;5;241m.\u001b[39mrun_until_complete(\u001b[38;5;28msuper\u001b[39m()\u001b[38;5;241m.\u001b[39mbrowser)\n\u001b[1;32m    731\u001b[0m \u001b[38;5;28;01mreturn\u001b[39;00m \u001b[38;5;28mself\u001b[39m\u001b[38;5;241m.\u001b[39m_browser\n",
      "\u001b[0;31mRuntimeError\u001b[0m: Cannot use HTMLSession within an existing event loop. Use AsyncHTMLSession instead."
     ]
    }
   ],
   "source": []
  }
 ],
 "metadata": {
  "kernelspec": {
   "display_name": "Python 3 (ipykernel)",
   "language": "python",
   "name": "python3"
  },
  "language_info": {
   "codemirror_mode": {
    "name": "ipython",
    "version": 3
   },
   "file_extension": ".py",
   "mimetype": "text/x-python",
   "name": "python",
   "nbconvert_exporter": "python",
   "pygments_lexer": "ipython3",
   "version": "3.10.10"
  }
 },
 "nbformat": 4,
 "nbformat_minor": 5
}
